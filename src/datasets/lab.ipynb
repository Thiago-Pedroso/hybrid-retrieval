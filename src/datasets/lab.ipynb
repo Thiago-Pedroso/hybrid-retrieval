{
 "cells": [
  {
   "cell_type": "markdown",
   "id": "24fc2fc1",
   "metadata": {},
   "source": [
    "# Mini Laboratório: Explorando os Datasets (BEIR)\n",
    "\n",
    "Este notebook oferece uma análise exploratória prática dos datasets suportados (`SciFact`, `FIQA`, `NFCorpus`) no formato **BEIR**. Vamos:\n",
    "\n",
    "- Carregar `corpus`, `queries` e `qrels`\n",
    "- Inspecionar amostras\n",
    "- Ver estatísticas simples (tamanhos, distribuição por split)\n",
    "- Cruzar `qrels` com `corpus` para ver documentos relevantes por query\n",
    "- Converter para objetos tipados (`Document`, `Query`) usados no código"
   ]
  },
  {
   "cell_type": "markdown",
   "id": "c141b5bb",
   "metadata": {},
   "source": [
    "## Requisitos\n",
    "\n",
    "- Estrutura de dados gerada pelo script:\n",
    "  - `python download_datasets.py --datasets scifact,fiqa,nfcorpus --root ./data --format parquet`\n",
    "- Dependências principais: `pandas`, `pyarrow` (para Parquet)\n",
    "\n",
    "## Organização\n",
    "- `corpus.parquet`: documentos (`doc_id`, `title`, `text`, `metadata`)\n",
    "- `queries.parquet`: consultas (`query_id`, `query`)\n",
    "- `qrels.parquet`: julgamentos de relevância (`query_id`, `doc_id`, `score`, `split`)"
   ]
  },
  {
   "cell_type": "code",
   "execution_count": 25,
   "id": "2e889f77",
   "metadata": {},
   "outputs": [],
   "source": [
    "import sys\n",
    "from pathlib import Path\n",
    "\n",
    "repo_root = Path.cwd().parent.parent  \n",
    "\n",
    "repo_root_str = str(repo_root)\n",
    "if repo_root_str not in sys.path:\n",
    "    sys.path.insert(0, repo_root_str)\n",
    "\n",
    "import pandas as pd\n",
    "pd.set_option(\"display.max_colwidth\", 120)\n",
    "\n",
    "from src.datasets.loader import load_beir_dataset, select_split, as_documents, as_queries"
   ]
  },
  {
   "cell_type": "markdown",
   "id": "64564b2b",
   "metadata": {},
   "source": [
    "## Seleção do Dataset e Carregamento\n",
    "\n",
    "Escolha um dos datasets: `scifact`, `fiqa`, `nfcorpus`. \n",
    "O caminho esperado é `data/{dataset}/processed/beir`."
   ]
  },
  {
   "cell_type": "code",
   "execution_count": 8,
   "id": "7e180eec",
   "metadata": {},
   "outputs": [
    {
     "name": "stdout",
     "output_type": "stream",
     "text": [
      "Dataset: scifact\n",
      "- corpus:  5,183 docs\n",
      "- queries: 1,109 queries\n",
      "- qrels:   1,258 pairs\n",
      "Splits em qrels: ['test', 'train']\n"
     ]
    }
   ],
   "source": [
    "# Escolha aqui: \"scifact\", \"fiqa\" ou \"nfcorpus\"\n",
    "dataset_name = \"scifact\"\n",
    "\n",
    "data_root = repo_root / \"data\" / dataset_name / \"processed\" / \"beir\"\n",
    "corpus_df, queries_df, qrels_df = load_beir_dataset(data_root)\n",
    "\n",
    "print(f\"Dataset: {dataset_name}\")\n",
    "print(f\"- corpus:  {len(corpus_df):,} docs\")\n",
    "print(f\"- queries: {len(queries_df):,} queries\")\n",
    "print(f\"- qrels:   {len(qrels_df):,} pairs\")\n",
    "print(\"Splits em qrels:\", sorted(qrels_df['split'].unique().tolist()))"
   ]
  },
  {
   "cell_type": "markdown",
   "id": "3b7f56de",
   "metadata": {},
   "source": [
    "## Visão rápida dos dados\n",
    "\n",
    "Amostras de `corpus`, `queries` e `qrels` para entender os campos principais."
   ]
  },
  {
   "cell_type": "code",
   "execution_count": 9,
   "id": "8eab4dee",
   "metadata": {},
   "outputs": [
    {
     "data": {
      "text/html": [
       "<div>\n",
       "<style scoped>\n",
       "    .dataframe tbody tr th:only-of-type {\n",
       "        vertical-align: middle;\n",
       "    }\n",
       "\n",
       "    .dataframe tbody tr th {\n",
       "        vertical-align: top;\n",
       "    }\n",
       "\n",
       "    .dataframe thead th {\n",
       "        text-align: right;\n",
       "    }\n",
       "</style>\n",
       "<table border=\"1\" class=\"dataframe\">\n",
       "  <thead>\n",
       "    <tr style=\"text-align: right;\">\n",
       "      <th></th>\n",
       "      <th>doc_id</th>\n",
       "      <th>title</th>\n",
       "      <th>text</th>\n",
       "      <th>metadata</th>\n",
       "    </tr>\n",
       "  </thead>\n",
       "  <tbody>\n",
       "    <tr>\n",
       "      <th>3382</th>\n",
       "      <td>22942787</td>\n",
       "      <td>Relation between Medicare screening reimbursement and stage at diagnosis for older patients with colon cancer.</td>\n",
       "      <td>CONTEXT Medicare's reimbursement policy was changed in 1998 to provide coverage for screening colonoscopies for pati...</td>\n",
       "      <td>{}</td>\n",
       "    </tr>\n",
       "    <tr>\n",
       "      <th>3814</th>\n",
       "      <td>25816994</td>\n",
       "      <td>Renal outcomes with telmisartan, ramipril, or both, in people at high vascular risk (the ONTARGET study): a multicen...</td>\n",
       "      <td>BACKGROUND Angiotensin receptor blockers (ARB) and angiotensin converting enzyme (ACE) inhibitors are known to reduc...</td>\n",
       "      <td>{}</td>\n",
       "    </tr>\n",
       "    <tr>\n",
       "      <th>764</th>\n",
       "      <td>4345605</td>\n",
       "      <td>Control of cortical GABA circuitry development by Nrg1 and ErbB4 signalling</td>\n",
       "      <td>Schizophrenia is a complex disorder that interferes with the function of several brain systems required for cognitio...</td>\n",
       "      <td>{}</td>\n",
       "    </tr>\n",
       "  </tbody>\n",
       "</table>\n",
       "</div>"
      ],
      "text/plain": [
       "        doc_id  \\\n",
       "3382  22942787   \n",
       "3814  25816994   \n",
       "764    4345605   \n",
       "\n",
       "                                                                                                                        title  \\\n",
       "3382           Relation between Medicare screening reimbursement and stage at diagnosis for older patients with colon cancer.   \n",
       "3814  Renal outcomes with telmisartan, ramipril, or both, in people at high vascular risk (the ONTARGET study): a multicen...   \n",
       "764                                               Control of cortical GABA circuitry development by Nrg1 and ErbB4 signalling   \n",
       "\n",
       "                                                                                                                         text  \\\n",
       "3382  CONTEXT Medicare's reimbursement policy was changed in 1998 to provide coverage for screening colonoscopies for pati...   \n",
       "3814  BACKGROUND Angiotensin receptor blockers (ARB) and angiotensin converting enzyme (ACE) inhibitors are known to reduc...   \n",
       "764   Schizophrenia is a complex disorder that interferes with the function of several brain systems required for cognitio...   \n",
       "\n",
       "     metadata  \n",
       "3382       {}  \n",
       "3814       {}  \n",
       "764        {}  "
      ]
     },
     "metadata": {},
     "output_type": "display_data"
    },
    {
     "data": {
      "text/html": [
       "<div>\n",
       "<style scoped>\n",
       "    .dataframe tbody tr th:only-of-type {\n",
       "        vertical-align: middle;\n",
       "    }\n",
       "\n",
       "    .dataframe tbody tr th {\n",
       "        vertical-align: top;\n",
       "    }\n",
       "\n",
       "    .dataframe thead th {\n",
       "        text-align: right;\n",
       "    }\n",
       "</style>\n",
       "<table border=\"1\" class=\"dataframe\">\n",
       "  <thead>\n",
       "    <tr style=\"text-align: right;\">\n",
       "      <th></th>\n",
       "      <th>query_id</th>\n",
       "      <th>query</th>\n",
       "    </tr>\n",
       "  </thead>\n",
       "  <tbody>\n",
       "    <tr>\n",
       "      <th>321</th>\n",
       "      <td>564</td>\n",
       "      <td>In British Men, haplogroup I increases risk of cardiovascular disease by 50%.</td>\n",
       "    </tr>\n",
       "    <tr>\n",
       "      <th>977</th>\n",
       "      <td>783</td>\n",
       "      <td>Mice without IFN-γ or its receptor are resistant to EAM induced with α-MyHC/CFA.</td>\n",
       "    </tr>\n",
       "    <tr>\n",
       "      <th>866</th>\n",
       "      <td>248</td>\n",
       "      <td>Chenodeosycholic acid treatment increases whole-body energy expenditure.</td>\n",
       "    </tr>\n",
       "  </tbody>\n",
       "</table>\n",
       "</div>"
      ],
      "text/plain": [
       "    query_id  \\\n",
       "321      564   \n",
       "977      783   \n",
       "866      248   \n",
       "\n",
       "                                                                                query  \n",
       "321     In British Men, haplogroup I increases risk of cardiovascular disease by 50%.  \n",
       "977  Mice without IFN-γ or its receptor are resistant to EAM induced with α-MyHC/CFA.  \n",
       "866          Chenodeosycholic acid treatment increases whole-body energy expenditure.  "
      ]
     },
     "metadata": {},
     "output_type": "display_data"
    },
    {
     "data": {
      "text/html": [
       "<div>\n",
       "<style scoped>\n",
       "    .dataframe tbody tr th:only-of-type {\n",
       "        vertical-align: middle;\n",
       "    }\n",
       "\n",
       "    .dataframe tbody tr th {\n",
       "        vertical-align: top;\n",
       "    }\n",
       "\n",
       "    .dataframe thead th {\n",
       "        text-align: right;\n",
       "    }\n",
       "</style>\n",
       "<table border=\"1\" class=\"dataframe\">\n",
       "  <thead>\n",
       "    <tr style=\"text-align: right;\">\n",
       "      <th></th>\n",
       "      <th>query_id</th>\n",
       "      <th>doc_id</th>\n",
       "      <th>score</th>\n",
       "      <th>split</th>\n",
       "    </tr>\n",
       "  </thead>\n",
       "  <tbody>\n",
       "    <tr>\n",
       "      <th>995</th>\n",
       "      <td>275</td>\n",
       "      <td>14819804</td>\n",
       "      <td>1</td>\n",
       "      <td>test</td>\n",
       "    </tr>\n",
       "    <tr>\n",
       "      <th>274</th>\n",
       "      <td>414</td>\n",
       "      <td>6309659</td>\n",
       "      <td>1</td>\n",
       "      <td>train</td>\n",
       "    </tr>\n",
       "    <tr>\n",
       "      <th>763</th>\n",
       "      <td>1171</td>\n",
       "      <td>18956141</td>\n",
       "      <td>1</td>\n",
       "      <td>train</td>\n",
       "    </tr>\n",
       "    <tr>\n",
       "      <th>393</th>\n",
       "      <td>612</td>\n",
       "      <td>9638032</td>\n",
       "      <td>1</td>\n",
       "      <td>train</td>\n",
       "    </tr>\n",
       "    <tr>\n",
       "      <th>806</th>\n",
       "      <td>1236</td>\n",
       "      <td>17973161</td>\n",
       "      <td>1</td>\n",
       "      <td>train</td>\n",
       "    </tr>\n",
       "  </tbody>\n",
       "</table>\n",
       "</div>"
      ],
      "text/plain": [
       "    query_id    doc_id  score  split\n",
       "995      275  14819804      1   test\n",
       "274      414   6309659      1  train\n",
       "763     1171  18956141      1  train\n",
       "393      612   9638032      1  train\n",
       "806     1236  17973161      1  train"
      ]
     },
     "metadata": {},
     "output_type": "display_data"
    }
   ],
   "source": [
    "display(corpus_df.sample(min(3, len(corpus_df))))\n",
    "display(queries_df.sample(min(3, len(queries_df))))\n",
    "display(qrels_df.sample(min(5, len(qrels_df))))"
   ]
  },
  {
   "cell_type": "markdown",
   "id": "dd664c8e",
   "metadata": {},
   "source": [
    "## Seleção de Split\n",
    "\n",
    "Selecionamos um split preferencial (por padrão: `test` → `dev` → `validation` → `train`) e filtramos `qrels`."
   ]
  },
  {
   "cell_type": "code",
   "execution_count": 28,
   "id": "0a28c0ea",
   "metadata": {},
   "outputs": [
    {
     "name": "stdout",
     "output_type": "stream",
     "text": [
      "Split escolhido: test\n",
      "Tamanho do split: 339\n",
      "Número de query_id distintos em qrels_split: 300\n",
      "Qrels com doc_id não encontrado no corpus: 0\n",
      "Qrels com query_id não encontrado em queries: 0\n"
     ]
    }
   ],
   "source": [
    "split = select_split(qrels_df, prefer=(\"test\", \"dev\", \"validation\", \"train\"))\n",
    "qrels_split = qrels_df[qrels_df[\"split\"] == split].copy()\n",
    "\n",
    "print(\"Split escolhido:\", split)\n",
    "print(\"Tamanho do split:\", len(qrels_split))\n",
    "\n",
    "num_unique_query_ids = qrels_split[\"query_id\"].nunique()\n",
    "print(f\"Número de query_id distintos em qrels_split: {num_unique_query_ids}\")\n",
    "\n",
    "\n",
    "# Garantir consistência de chaves entre qrels e tabelas\n",
    "missing_docs = ~qrels_split[\"doc_id\"].isin(corpus_df[\"doc_id\"])\n",
    "missing_queries = ~qrels_split[\"query_id\"].isin(queries_df[\"query_id\"])\n",
    "print(\"Qrels com doc_id não encontrado no corpus:\", missing_docs.sum())\n",
    "print(\"Qrels com query_id não encontrado em queries:\", missing_queries.sum())"
   ]
  },
  {
   "cell_type": "markdown",
   "id": "e766fd11",
   "metadata": {},
   "source": [
    "## Uma query e seus documentos relevantes\n",
    "\n",
    "Selecionamos uma `query` do split e unimos com `corpus` via `qrels` para ver os documentos relevantes."
   ]
  },
  {
   "cell_type": "code",
   "execution_count": 17,
   "id": "e36de503",
   "metadata": {},
   "outputs": [
    {
     "name": "stdout",
     "output_type": "stream",
     "text": [
      "Query ID: 36\n",
      "Query: A deficiency of vitamin B12 increases blood levels of homocysteine.\n"
     ]
    },
    {
     "data": {
      "text/html": [
       "<div>\n",
       "<style scoped>\n",
       "    .dataframe tbody tr th:only-of-type {\n",
       "        vertical-align: middle;\n",
       "    }\n",
       "\n",
       "    .dataframe tbody tr th {\n",
       "        vertical-align: top;\n",
       "    }\n",
       "\n",
       "    .dataframe thead th {\n",
       "        text-align: right;\n",
       "    }\n",
       "</style>\n",
       "<table border=\"1\" class=\"dataframe\">\n",
       "  <thead>\n",
       "    <tr style=\"text-align: right;\">\n",
       "      <th></th>\n",
       "      <th>doc_id</th>\n",
       "      <th>score</th>\n",
       "      <th>title</th>\n",
       "      <th>text</th>\n",
       "    </tr>\n",
       "  </thead>\n",
       "  <tbody>\n",
       "    <tr>\n",
       "      <th>0</th>\n",
       "      <td>5152028</td>\n",
       "      <td>1</td>\n",
       "      <td>Folic acid improves endothelial function in coronary artery disease via mechanisms largely independe ...</td>\n",
       "      <td>BACKGROUND Homocysteine is a risk factor for coronary artery disease (CAD), although a causal relation remains to be...</td>\n",
       "    </tr>\n",
       "    <tr>\n",
       "      <th>1</th>\n",
       "      <td>11705328</td>\n",
       "      <td>1</td>\n",
       "      <td>Randomized trial of folic acid supplementation and serum homocysteine levels.</td>\n",
       "      <td>BACKGROUND Lowering serum homocysteine levels with folic acid is expected to reduce mortality from ischemic heart di...</td>\n",
       "    </tr>\n",
       "  </tbody>\n",
       "</table>\n",
       "</div>"
      ],
      "text/plain": [
       "     doc_id  score  \\\n",
       "0   5152028      1   \n",
       "1  11705328      1   \n",
       "\n",
       "                                                                                                      title  \\\n",
       "0  Folic acid improves endothelial function in coronary artery disease via mechanisms largely independe ...   \n",
       "1                             Randomized trial of folic acid supplementation and serum homocysteine levels.   \n",
       "\n",
       "                                                                                                                      text  \n",
       "0  BACKGROUND Homocysteine is a risk factor for coronary artery disease (CAD), although a causal relation remains to be...  \n",
       "1  BACKGROUND Lowering serum homocysteine levels with folic acid is expected to reduce mortality from ischemic heart di...  "
      ]
     },
     "metadata": {},
     "output_type": "display_data"
    }
   ],
   "source": [
    "# Escolher uma query do split atual\n",
    "qid = qrels_split[\"query_id\"].iloc[5]\n",
    "query_text = queries_df.loc[queries_df[\"query_id\"] == qid, \"query\"].values[0]\n",
    "\n",
    "print(\"Query ID:\", qid)\n",
    "print(\"Query:\", query_text)\n",
    "\n",
    "# Pegar documentos relevantes\n",
    "rel_docs = (\n",
    "    qrels_split[qrels_split[\"query_id\"] == qid]\n",
    "    .merge(corpus_df, how=\"left\", on=\"doc_id\")\n",
    "    .sort_values(\"score\", ascending=False)\n",
    ")\n",
    "\n",
    "# Mostrar os top-5 relevantes desta query\n",
    "def truncate(t, n=300):\n",
    "    return (t[:n] + \" ...\") if isinstance(t, str) and len(t) > n else t\n",
    "\n",
    "display(\n",
    "    rel_docs[[\"doc_id\", \"score\", \"title\", \"text\"]]\n",
    "    .head(5)\n",
    "    .assign(title=lambda d: d[\"title\"].apply(lambda x: truncate(str(x), 100)))\n",
    "    .assign(text=lambda d: d[\"text\"].apply(lambda x: truncate(str(x), 300)))\n",
    ")"
   ]
  },
  {
   "cell_type": "markdown",
   "id": "a0fe32c3",
   "metadata": {},
   "source": [
    "## Estatísticas simples\n",
    "\n",
    "- Tamanhos médios de documento e query (em tokens simples por espaço)\n",
    "- Distribuição de `score` em `qrels`"
   ]
  },
  {
   "cell_type": "code",
   "execution_count": 18,
   "id": "1be5a68f",
   "metadata": {},
   "outputs": [
    {
     "name": "stdout",
     "output_type": "stream",
     "text": [
      "{'docs_count': 5183, 'queries_count': 1109, 'qrels_count': 1258, 'doc_len_avg': 201.81092031641907, 'doc_len_median': 192.0, 'query_len_avg': 12.379621280432822, 'query_len_median': 12.0}\n",
      "\n",
      "Distribuição de score em qrels:\n"
     ]
    },
    {
     "data": {
      "text/plain": [
       "score\n",
       "1    1258\n",
       "Name: count, dtype: int64"
      ]
     },
     "metadata": {},
     "output_type": "display_data"
    }
   ],
   "source": [
    "# Tamanhos (tokens aproximados por split de espaço)\n",
    "corpus_len = corpus_df[\"text\"].fillna(\"\").str.split().str.len()\n",
    "query_len = queries_df[\"query\"].fillna(\"\").str.split().str.len()\n",
    "\n",
    "stats = {\n",
    "    \"docs_count\": len(corpus_df),\n",
    "    \"queries_count\": len(queries_df),\n",
    "    \"qrels_count\": len(qrels_df),\n",
    "    \"doc_len_avg\": float(corpus_len.mean()),\n",
    "    \"doc_len_median\": float(corpus_len.median()),\n",
    "    \"query_len_avg\": float(query_len.mean()),\n",
    "    \"query_len_median\": float(query_len.median()),\n",
    "}\n",
    "\n",
    "print(stats)\n",
    "\n",
    "# Distribuição de score\n",
    "score_counts = qrels_df[\"score\"].value_counts().sort_index()\n",
    "print(\"\\nDistribuição de score em qrels:\")\n",
    "display(score_counts)"
   ]
  },
  {
   "cell_type": "markdown",
   "id": "b1615805",
   "metadata": {},
   "source": [
    "## Visualizações rápidas\n",
    "\n",
    "Histogramas dos comprimentos de documentos e queries."
   ]
  },
  {
   "cell_type": "code",
   "execution_count": 20,
   "id": "a4df60be",
   "metadata": {},
   "outputs": [
    {
     "data": {
      "image/png": "[encoded data removed]",
      "text/plain": [
       "<Figure size 1000x400 with 2 Axes>"
      ]
     },
     "metadata": {},
     "output_type": "display_data"
    }
   ],
   "source": [
    "import matplotlib.pyplot as plt\n",
    "\n",
    "fig, axes = plt.subplots(1, 2, figsize=(10, 4))\n",
    "axes[0].hist(corpus_len, bins=40, color=\"#3b82f6\", alpha=0.8)\n",
    "axes[0].set_title(\"Comprimento dos documentos\")\n",
    "axes[0].set_xlabel(\"Tokens (aprox)\")\n",
    "axes[0].set_ylabel(\"Freq\")\n",
    "\n",
    "axes[1].hist(query_len, bins=40, color=\"#10b981\", alpha=0.8)\n",
    "axes[1].set_title(\"Comprimento das queries\")\n",
    "axes[1].set_xlabel(\"Tokens (aprox)\")\n",
    "axes[1].set_ylabel(\"Freq\")\n",
    "\n",
    "plt.tight_layout()\n",
    "plt.show()"
   ]
  },
  {
   "cell_type": "markdown",
   "id": "6379d465",
   "metadata": {},
   "source": [
    "## Conversão para objetos tipados (`Document`, `Query`)\n",
    "\n",
    "Útil para integrar com os retrievers ou pipelines que usam o schema do projeto."
   ]
  },
  {
   "cell_type": "code",
   "execution_count": 22,
   "id": "4eb479a6",
   "metadata": {},
   "outputs": [
    {
     "name": "stdout",
     "output_type": "stream",
     "text": [
      "Objetos: 5183 Document, 1109 Query\n",
      "Exemplo Document: Document(doc_id='4983', title='Microstructural development of human newborn cerebral white matter assessed in vivo by diffusion tensor magnetic resonance imaging.', text='Alterations of the architecture of cerebral white matter in the developing human brain can affect cortical development and result in functional disabilities. A line scan diffusion-weighted magnetic resonance imaging (MRI) sequence with diffusion tensor analysis was applied to measure the apparent diffusion coefficient, to calculate relative anisotropy, and to delineate three-dimensional fiber architecture in cerebral white matter in preterm (n = 17) and full-term infants (n = 7). To assess effects of prematurity on cerebral white matter development, early gestation preterm infants (n = 10) were studied a second time at term. In the central white matter the mean apparent diffusion coefficient at 28 wk was high, 1.8 microm2/ms, and decreased toward term to 1.2 microm2/ms. In the posterior limb of the internal capsule, the mean apparent diffusion coefficients at both times were similar (1.2 versus 1.1 microm2/ms). Relative anisotropy was higher the closer birth was to term with greater absolute values in the internal capsule than in the central white matter. Preterm infants at term showed higher mean diffusion coefficients in the central white matter (1.4 +/- 0.24 versus 1.15 +/- 0.09 microm2/ms, p = 0.016) and lower relative anisotropy in both areas compared with full-term infants (white matter, 10.9 +/- 0.6 versus 22.9 +/- 3.0%, p = 0.001; internal capsule, 24.0 +/- 4.44 versus 33.1 +/- 0.6% p = 0.006). Nonmyelinated fibers in the corpus callosum were visible by diffusion tensor MRI as early as 28 wk; full-term and preterm infants at term showed marked differences in white matter fiber organization. The data indicate that quantitative assessment of water diffusion by diffusion tensor MRI provides insight into microstructural development in cerebral white matter in living infants.', metadata='{}')\n",
      "Exemplo Query: Query(query_id='0', text='0-dimensional biomaterials lack inductive properties.')\n"
     ]
    }
   ],
   "source": [
    "docs = as_documents(corpus_df)\n",
    "qs = as_queries(queries_df)\n",
    "\n",
    "print(f\"Objetos: {len(docs)} Document, {len(qs)} Query\")\n",
    "print(\"Exemplo Document:\", docs[0])\n",
    "print(\"Exemplo Query:\", qs[0])"
   ]
  }
 ],
 "metadata": {
  "kernelspec": {
   "display_name": ".venv",
   "language": "python",
   "name": "python3"
  },
  "language_info": {
   "codemirror_mode": {
    "name": "ipython",
    "version": 3
   },
   "file_extension": ".py",
   "mimetype": "text/x-python",
   "name": "python",
   "nbconvert_exporter": "python",
   "pygments_lexer": "ipython3",
   "version": "3.12.4"
  }
 },
 "nbformat": 4,
 "nbformat_minor": 5
}
