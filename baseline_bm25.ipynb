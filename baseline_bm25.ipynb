{
 "cells": [
  {
   "cell_type": "markdown",
   "id": "f20c8e13",
   "metadata": {},
   "source": [
    "## Configs"
   ]
  },
  {
   "cell_type": "code",
   "execution_count": 7,
   "id": "04a400d0",
   "metadata": {},
   "outputs": [],
   "source": [
    "from pathlib import Path\n",
    "import pandas as pd\n",
    "import numpy as np\n",
    "import re\n",
    "from tqdm import tqdm\n",
    "from rank_bm25 import BM25Okapi\n",
    "\n",
    "# Ajuste caso tenha salvo em outro lugar:\n",
    "ROOT = Path(\"./data\").resolve()\n",
    "\n",
    "# Conjuntos BEIR do paper:\n",
    "DATASETS = [\"scifact\", \"fiqa\", \"nfcorpus\"]\n",
    "TOPK = 100  # top-k para avaliação\n",
    "\n",
    "pd.set_option(\"display.max_colwidth\", 200)"
   ]
  },
  {
   "cell_type": "markdown",
   "id": "1429115f",
   "metadata": {},
   "source": [
    "## Utils I/O"
   ]
  },
  {
   "cell_type": "code",
   "execution_count": 2,
   "id": "07ef93bf",
   "metadata": {},
   "outputs": [],
   "source": [
    "def load_parquet_or_jsonl(path_parquet: Path, path_jsonl: Path) -> pd.DataFrame:\n",
    "    if path_parquet.exists():\n",
    "        return pd.read_parquet(path_parquet)\n",
    "    if path_jsonl.exists():\n",
    "        return pd.read_json(path_jsonl, lines=True)\n",
    "    raise FileNotFoundError(f\"Faltam arquivos: {path_parquet} | {path_jsonl}\")\n",
    "\n",
    "def load_beir_processed(ds_name: str):\n",
    "    base = ROOT / ds_name / \"processed\" / \"beir\"\n",
    "    paths = {\n",
    "        \"corpus\":  (base / \"corpus.parquet\",  base / \"corpus.jsonl\"),\n",
    "        \"queries\": (base / \"queries.parquet\", base / \"queries.jsonl\"),\n",
    "        \"qrels\":   (base / \"qrels.parquet\",   base / \"qrels.jsonl\"),\n",
    "    }\n",
    "    df_corpus  = load_parquet_or_jsonl(*paths[\"corpus\"])\n",
    "    df_queries = load_parquet_or_jsonl(*paths[\"queries\"])\n",
    "    df_qrels   = load_parquet_or_jsonl(*paths[\"qrels\"])\n",
    "\n",
    "    # Normalizações leves\n",
    "    df_corpus[\"doc_id\"]   = df_corpus[\"doc_id\"].astype(str)\n",
    "    df_queries[\"query_id\"] = df_queries[\"query_id\"].astype(str)\n",
    "    if \"split\" not in df_qrels.columns:\n",
    "        df_qrels[\"split\"] = \"test\"  # fallback\n",
    "    df_qrels[\"query_id\"] = df_qrels[\"query_id\"].astype(str)\n",
    "    df_qrels[\"doc_id\"]   = df_qrels[\"doc_id\"].astype(str)\n",
    "    if \"score\" not in df_qrels.columns:\n",
    "        df_qrels[\"score\"] = 1\n",
    "\n",
    "    return df_corpus, df_queries, df_qrels\n",
    "\n",
    "def pick_split_available(qrels: pd.DataFrame, prefer=\"test\"):\n",
    "    order = [prefer, \"dev\", \"validation\", \"train\"]\n",
    "    present = set(qrels[\"split\"].unique().tolist())\n",
    "    for s in order:\n",
    "        if s in present:\n",
    "            return s\n",
    "    return qrels[\"split\"].iloc[0]"
   ]
  },
  {
   "cell_type": "markdown",
   "id": "c6dca84b",
   "metadata": {},
   "source": [
    "## Tokenização"
   ]
  },
  {
   "cell_type": "code",
   "execution_count": 3,
   "id": "48ed655b",
   "metadata": {},
   "outputs": [],
   "source": [
    "# Tokenização simples\n",
    "_tok_re = re.compile(r\"[A-Za-z0-9_]+\")\n",
    "def tokenize(text: str):\n",
    "    if not isinstance(text, str):\n",
    "        text = \"\" if text is None else str(text)\n",
    "    return [t.lower() for t in _tok_re.findall(text)]"
   ]
  },
  {
   "cell_type": "markdown",
   "id": "1543254c",
   "metadata": {},
   "source": [
    "## Métricas (Top-k)"
   ]
  },
  {
   "cell_type": "code",
   "execution_count": 4,
   "id": "8efc34bb",
   "metadata": {},
   "outputs": [],
   "source": [
    "# Métricas\n",
    "def mrr_at_k(ranked, gold_set, k=10):\n",
    "    for i, did in enumerate(ranked[:k], start=1):\n",
    "        if did in gold_set:\n",
    "            return 1.0 / i\n",
    "    return 0.0\n",
    "\n",
    "def dcg_at_k(ranked, gains, k=10):\n",
    "    dcg = 0.0\n",
    "    for i, did in enumerate(ranked[:k], start=1):\n",
    "        g = gains.get(did, 0.0)\n",
    "        if g > 0:\n",
    "            dcg += (2**g - 1) / np.log2(i + 1)\n",
    "    return dcg\n",
    "\n",
    "def ndcg_at_k(ranked, gains, k=10):\n",
    "    ideal = sorted(gains.values(), reverse=True)[:k]\n",
    "    idcg = 0.0\n",
    "    for i, g in enumerate(ideal, start=1):\n",
    "        idcg += (2**g - 1) / np.log2(i + 1)\n",
    "    if idcg == 0:\n",
    "        return 0.0\n",
    "    return dcg_at_k(ranked, gains, k) / idcg\n",
    "\n",
    "def average_precision_at_k(ranked, gold_set, k=10):\n",
    "    hits, s = 0, 0.0\n",
    "    for i, did in enumerate(ranked[:k], start=1):\n",
    "        if did in gold_set:\n",
    "            hits += 1\n",
    "            s += hits / i\n",
    "    return 0.0 if not gold_set else s / min(len(gold_set), k)\n",
    "\n",
    "def recall_at_k(ranked, gold_set, k=10):\n",
    "    if not gold_set:\n",
    "        return 0.0\n",
    "    return len(set(ranked[:k]) & gold_set) / len(gold_set)"
   ]
  },
  {
   "cell_type": "markdown",
   "id": "0c275ee6",
   "metadata": {},
   "source": [
    "## índice BM25"
   ]
  },
  {
   "cell_type": "code",
   "execution_count": 8,
   "id": "00c7eec3",
   "metadata": {},
   "outputs": [],
   "source": [
    "def build_bm25_index(df_corpus: pd.DataFrame):\n",
    "    # concatena título + texto\n",
    "    texts = (df_corpus[\"title\"].fillna(\"\") + \" \" + df_corpus[\"text\"].fillna(\"\")).tolist()\n",
    "    tokenized = [tokenize(t) for t in texts]\n",
    "    bm25 = BM25Okapi(tokenized)\n",
    "    return bm25, tokenized\n",
    "\n",
    "def rank_with_bm25(bm25: BM25Okapi, df_corpus: pd.DataFrame, query_text: str, topk=TOPK):\n",
    "    qtok = tokenize(query_text)\n",
    "    scores = bm25.get_scores(qtok)\n",
    "    # pega top-k índices\n",
    "    top_idx = np.argpartition(scores, -topk)[-topk:]\n",
    "    top_idx = top_idx[np.argsort(scores[top_idx])[::-1]]  # ordena por score desc\n",
    "    return df_corpus[\"doc_id\"].iloc[top_idx].tolist(), scores[top_idx]"
   ]
  },
  {
   "cell_type": "markdown",
   "id": "b5de840f",
   "metadata": {},
   "source": [
    "## Loop de avaliação"
   ]
  },
  {
   "cell_type": "code",
   "execution_count": 9,
   "id": "cb8ed9f8",
   "metadata": {},
   "outputs": [],
   "source": [
    "def evaluate_dataset(name: str, topk=TOPK, only_test=True, show_examples=3):\n",
    "    print(f\"\\n====== {name} ======\")\n",
    "    df_corpus, df_queries, df_qrels = load_beir_processed(name)\n",
    "    print(\"corpus:\", df_corpus.shape, \"| queries:\", df_queries.shape, \"| qrels:\", df_qrels.shape)\n",
    "\n",
    "    desired = \"test\" if only_test else \"test\"\n",
    "    split = pick_split_available(df_qrels, prefer=desired)\n",
    "    if only_test and split != \"test\":\n",
    "        print(f\"⚠️ Split 'test' não encontrado em {name}; usando '{split}' para rodar mesmo assim.\")\n",
    "    qrels_split = df_qrels[df_qrels[\"split\"] == split].copy()\n",
    "    print(\"usando split:\", split, \"| qrels:\", qrels_split.shape)\n",
    "\n",
    "    # mapa query_id -> {doc_id: score}\n",
    "    qrels_map = {}\n",
    "    for row in qrels_split.itertuples(index=False):\n",
    "        qrels_map.setdefault(row.query_id, {})[row.doc_id] = int(getattr(row, \"score\", 1))\n",
    "\n",
    "    # constrói índice lexical\n",
    "    bm25, _ = build_bm25_index(df_corpus)\n",
    "\n",
    "    # prepara lookup de queries existentes\n",
    "    qdf = df_queries[df_queries[\"query_id\"].isin(qrels_split[\"query_id\"].unique())]\n",
    "    q_lookup = dict(zip(qdf[\"query_id\"], qdf[\"query\"]))\n",
    "\n",
    "    metrics = {\"MRR@10\": [], \"nDCG@10\": [], \"MAP@10\": [], \"Recall@10\": []}\n",
    "    examples = []\n",
    "\n",
    "    for qid, gold_gains in tqdm(qrels_map.items(), desc=f\"BM25 {name} ({split})\"):\n",
    "        qtxt = q_lookup.get(qid)\n",
    "        if qtxt is None:\n",
    "            continue\n",
    "        gold_set = {d for d, s in gold_gains.items() if s > 0}\n",
    "        ranked, _ = rank_with_bm25(bm25, df_corpus, qtxt, topk=topk)\n",
    "\n",
    "        metrics[\"MRR@10\"].append(mrr_at_k(ranked, gold_set, k=10))\n",
    "        metrics[\"nDCG@10\"].append(ndcg_at_k(ranked, gold_gains, k=10))\n",
    "        metrics[\"MAP@10\"].append(average_precision_at_k(ranked, gold_set, k=10))\n",
    "        metrics[\"Recall@10\"].append(recall_at_k(ranked, gold_set, k=10))\n",
    "\n",
    "    # agrega\n",
    "    results = {m: float(np.mean(v)) if v else 0.0 for m, v in metrics.items()}\n",
    "    print(\"Resultados (médias):\", results)\n",
    "\n",
    "    # exemplos qualitativos\n",
    "    for qid in list(qrels_map.keys())[:show_examples]:\n",
    "        qtxt = q_lookup.get(qid)\n",
    "        if not qtxt:\n",
    "            continue\n",
    "        ranked, _ = rank_with_bm25(bm25, df_corpus, qtxt, topk=10)\n",
    "        gold = {d for d, s in qrels_map[qid].items() if s > 0}\n",
    "        hit_rank = next((i+1 for i, did in enumerate(ranked) if did in gold), None)\n",
    "        # título do top-1\n",
    "        top1 = ranked[0] if ranked else None\n",
    "        title_top1 = df_corpus.loc[df_corpus[\"doc_id\"] == top1, \"title\"].head(1).tolist()\n",
    "        title_top1 = title_top1[0] if title_top1 else None\n",
    "        examples.append({\n",
    "            \"query_id\": qid,\n",
    "            \"query\": qtxt,\n",
    "            \"gold_size\": len(gold),\n",
    "            \"hit@10_rank\": hit_rank,\n",
    "            \"top1_doc_id\": top1,\n",
    "            \"top1_title\": title_top1\n",
    "        })\n",
    "    ex_df = pd.DataFrame(examples)\n",
    "    if not ex_df.empty:\n",
    "        print(\"\\nAmostras de consultas (top-1 e acerto@10):\")\n",
    "        display(ex_df)\n",
    "    return results\n"
   ]
  },
  {
   "cell_type": "code",
   "execution_count": 10,
   "id": "304a6116",
   "metadata": {},
   "outputs": [
    {
     "name": "stdout",
     "output_type": "stream",
     "text": [
      "\n",
      "====== scifact ======\n",
      "corpus: (5183, 4) | queries: (1109, 2) | qrels: (1258, 4)\n",
      "usando split: test | qrels: (339, 4)\n"
     ]
    },
    {
     "name": "stderr",
     "output_type": "stream",
     "text": [
      "BM25 scifact (test): 100%|██████████| 300/300 [00:04<00:00, 68.11it/s]"
     ]
    },
    {
     "name": "stdout",
     "output_type": "stream",
     "text": [
      "Resultados (médias): {'MRR@10': 0.6183650793650793, 'nDCG@10': 0.6522849449944166, 'MAP@10': 0.607113492063492, 'Recall@10': 0.7756666666666666}\n",
      "\n",
      "Amostras de consultas (top-1 e acerto@10):\n"
     ]
    },
    {
     "name": "stderr",
     "output_type": "stream",
     "text": [
      "\n"
     ]
    },
    {
     "data": {
      "text/html": [
       "<div>\n",
       "<style scoped>\n",
       "    .dataframe tbody tr th:only-of-type {\n",
       "        vertical-align: middle;\n",
       "    }\n",
       "\n",
       "    .dataframe tbody tr th {\n",
       "        vertical-align: top;\n",
       "    }\n",
       "\n",
       "    .dataframe thead th {\n",
       "        text-align: right;\n",
       "    }\n",
       "</style>\n",
       "<table border=\"1\" class=\"dataframe\">\n",
       "  <thead>\n",
       "    <tr style=\"text-align: right;\">\n",
       "      <th></th>\n",
       "      <th>query_id</th>\n",
       "      <th>query</th>\n",
       "      <th>gold_size</th>\n",
       "      <th>hit@10_rank</th>\n",
       "      <th>top1_doc_id</th>\n",
       "      <th>top1_title</th>\n",
       "    </tr>\n",
       "  </thead>\n",
       "  <tbody>\n",
       "    <tr>\n",
       "      <th>0</th>\n",
       "      <td>1</td>\n",
       "      <td>0-dimensional biomaterials show inductive properties.</td>\n",
       "      <td>1</td>\n",
       "      <td>NaN</td>\n",
       "      <td>10608397</td>\n",
       "      <td>High-performance neuroprosthetic control by an individual with tetraplegia.</td>\n",
       "    </tr>\n",
       "    <tr>\n",
       "      <th>1</th>\n",
       "      <td>3</td>\n",
       "      <td>1,000 genomes project enables mapping of genetic sequence variation consisting of rare variants with larger penetrance effects than common variants.</td>\n",
       "      <td>1</td>\n",
       "      <td>1.0</td>\n",
       "      <td>14717500</td>\n",
       "      <td>Rare Variants Create Synthetic Genome-Wide Associations</td>\n",
       "    </tr>\n",
       "    <tr>\n",
       "      <th>2</th>\n",
       "      <td>5</td>\n",
       "      <td>1/2000 in UK have abnormal PrP positivity.</td>\n",
       "      <td>1</td>\n",
       "      <td>1.0</td>\n",
       "      <td>13734012</td>\n",
       "      <td>Prevalent abnormal prion protein in human appendixes after bovine spongiform encephalopathy epizootic: large scale survey</td>\n",
       "    </tr>\n",
       "  </tbody>\n",
       "</table>\n",
       "</div>"
      ],
      "text/plain": [
       "  query_id  \\\n",
       "0        1   \n",
       "1        3   \n",
       "2        5   \n",
       "\n",
       "                                                                                                                                                  query  \\\n",
       "0                                                                                                 0-dimensional biomaterials show inductive properties.   \n",
       "1  1,000 genomes project enables mapping of genetic sequence variation consisting of rare variants with larger penetrance effects than common variants.   \n",
       "2                                                                                                            1/2000 in UK have abnormal PrP positivity.   \n",
       "\n",
       "   gold_size  hit@10_rank top1_doc_id  \\\n",
       "0          1          NaN    10608397   \n",
       "1          1          1.0    14717500   \n",
       "2          1          1.0    13734012   \n",
       "\n",
       "                                                                                                                  top1_title  \n",
       "0                                                High-performance neuroprosthetic control by an individual with tetraplegia.  \n",
       "1                                                                    Rare Variants Create Synthetic Genome-Wide Associations  \n",
       "2  Prevalent abnormal prion protein in human appendixes after bovine spongiform encephalopathy epizootic: large scale survey  "
      ]
     },
     "metadata": {},
     "output_type": "display_data"
    },
    {
     "name": "stdout",
     "output_type": "stream",
     "text": [
      "\n",
      "====== fiqa ======\n",
      "corpus: (57638, 4) | queries: (6648, 2) | qrels: (17110, 4)\n",
      "usando split: test | qrels: (1706, 4)\n"
     ]
    },
    {
     "name": "stderr",
     "output_type": "stream",
     "text": [
      "BM25 fiqa (test): 100%|██████████| 648/648 [04:50<00:00,  2.23it/s]\n"
     ]
    },
    {
     "name": "stdout",
     "output_type": "stream",
     "text": [
      "Resultados (médias): {'MRR@10': 0.270334852047815, 'nDCG@10': 0.21670365375682496, 'MAP@10': 0.15995581497345165, 'Recall@10': 0.2780129849574294}\n",
      "\n",
      "Amostras de consultas (top-1 e acerto@10):\n"
     ]
    },
    {
     "data": {
      "text/html": [
       "<div>\n",
       "<style scoped>\n",
       "    .dataframe tbody tr th:only-of-type {\n",
       "        vertical-align: middle;\n",
       "    }\n",
       "\n",
       "    .dataframe tbody tr th {\n",
       "        vertical-align: top;\n",
       "    }\n",
       "\n",
       "    .dataframe thead th {\n",
       "        text-align: right;\n",
       "    }\n",
       "</style>\n",
       "<table border=\"1\" class=\"dataframe\">\n",
       "  <thead>\n",
       "    <tr style=\"text-align: right;\">\n",
       "      <th></th>\n",
       "      <th>query_id</th>\n",
       "      <th>query</th>\n",
       "      <th>gold_size</th>\n",
       "      <th>hit@10_rank</th>\n",
       "      <th>top1_doc_id</th>\n",
       "      <th>top1_title</th>\n",
       "    </tr>\n",
       "  </thead>\n",
       "  <tbody>\n",
       "    <tr>\n",
       "      <th>0</th>\n",
       "      <td>8</td>\n",
       "      <td>How to deposit a cheque issued to an associate in my business into my business account?</td>\n",
       "      <td>2</td>\n",
       "      <td>1.0</td>\n",
       "      <td>65404</td>\n",
       "      <td></td>\n",
       "    </tr>\n",
       "    <tr>\n",
       "      <th>1</th>\n",
       "      <td>15</td>\n",
       "      <td>Can I send a money order from USPS as a business?</td>\n",
       "      <td>1</td>\n",
       "      <td>NaN</td>\n",
       "      <td>420483</td>\n",
       "      <td></td>\n",
       "    </tr>\n",
       "    <tr>\n",
       "      <th>2</th>\n",
       "      <td>18</td>\n",
       "      <td>1 EIN doing business under multiple business names</td>\n",
       "      <td>1</td>\n",
       "      <td>10.0</td>\n",
       "      <td>377152</td>\n",
       "      <td></td>\n",
       "    </tr>\n",
       "  </tbody>\n",
       "</table>\n",
       "</div>"
      ],
      "text/plain": [
       "  query_id  \\\n",
       "0        8   \n",
       "1       15   \n",
       "2       18   \n",
       "\n",
       "                                                                                     query  \\\n",
       "0  How to deposit a cheque issued to an associate in my business into my business account?   \n",
       "1                                        Can I send a money order from USPS as a business?   \n",
       "2                                       1 EIN doing business under multiple business names   \n",
       "\n",
       "   gold_size  hit@10_rank top1_doc_id top1_title  \n",
       "0          2          1.0       65404             \n",
       "1          1          NaN      420483             \n",
       "2          1         10.0      377152             "
      ]
     },
     "metadata": {},
     "output_type": "display_data"
    },
    {
     "name": "stdout",
     "output_type": "stream",
     "text": [
      "\n",
      "====== nfcorpus ======\n",
      "corpus: (3633, 4) | queries: (3237, 2) | qrels: (134294, 4)\n",
      "usando split: test | qrels: (12334, 4)\n"
     ]
    },
    {
     "name": "stderr",
     "output_type": "stream",
     "text": [
      "BM25 nfcorpus (test): 100%|██████████| 323/323 [00:02<00:00, 108.39it/s]\n"
     ]
    },
    {
     "name": "stdout",
     "output_type": "stream",
     "text": [
      "Resultados (médias): {'MRR@10': 0.5084549609317411, 'nDCG@10': 0.30729352479751965, 'MAP@10': 0.21908235516428795, 'Recall@10': 0.15222522666353797}\n",
      "\n",
      "Amostras de consultas (top-1 e acerto@10):\n"
     ]
    },
    {
     "data": {
      "text/html": [
       "<div>\n",
       "<style scoped>\n",
       "    .dataframe tbody tr th:only-of-type {\n",
       "        vertical-align: middle;\n",
       "    }\n",
       "\n",
       "    .dataframe tbody tr th {\n",
       "        vertical-align: top;\n",
       "    }\n",
       "\n",
       "    .dataframe thead th {\n",
       "        text-align: right;\n",
       "    }\n",
       "</style>\n",
       "<table border=\"1\" class=\"dataframe\">\n",
       "  <thead>\n",
       "    <tr style=\"text-align: right;\">\n",
       "      <th></th>\n",
       "      <th>query_id</th>\n",
       "      <th>query</th>\n",
       "      <th>gold_size</th>\n",
       "      <th>hit@10_rank</th>\n",
       "      <th>top1_doc_id</th>\n",
       "      <th>top1_title</th>\n",
       "    </tr>\n",
       "  </thead>\n",
       "  <tbody>\n",
       "    <tr>\n",
       "      <th>0</th>\n",
       "      <td>PLAIN-2</td>\n",
       "      <td>Do Cholesterol Statin Drugs Cause Breast Cancer?</td>\n",
       "      <td>24</td>\n",
       "      <td>1.0</td>\n",
       "      <td>MED-14</td>\n",
       "      <td>Statin use after diagnosis of breast cancer and survival: a population-based cohort study.</td>\n",
       "    </tr>\n",
       "    <tr>\n",
       "      <th>1</th>\n",
       "      <td>PLAIN-12</td>\n",
       "      <td>Exploiting Autophagy to Live Longer</td>\n",
       "      <td>30</td>\n",
       "      <td>NaN</td>\n",
       "      <td>MED-4711</td>\n",
       "      <td>Licorice and licochalcone-A induce autophagy in LNCaP prostate cancer cells by suppression of Bcl-2 expression and the mTOR pathway.</td>\n",
       "    </tr>\n",
       "    <tr>\n",
       "      <th>2</th>\n",
       "      <td>PLAIN-23</td>\n",
       "      <td>How to Reduce Exposure to Alkylphenols Through Your Diet</td>\n",
       "      <td>90</td>\n",
       "      <td>2.0</td>\n",
       "      <td>MED-1221</td>\n",
       "      <td>Clostridium difficile in foods and animals: history and measures to reduce exposure.</td>\n",
       "    </tr>\n",
       "  </tbody>\n",
       "</table>\n",
       "</div>"
      ],
      "text/plain": [
       "   query_id                                                     query  \\\n",
       "0   PLAIN-2          Do Cholesterol Statin Drugs Cause Breast Cancer?   \n",
       "1  PLAIN-12                       Exploiting Autophagy to Live Longer   \n",
       "2  PLAIN-23  How to Reduce Exposure to Alkylphenols Through Your Diet   \n",
       "\n",
       "   gold_size  hit@10_rank top1_doc_id  \\\n",
       "0         24          1.0      MED-14   \n",
       "1         30          NaN    MED-4711   \n",
       "2         90          2.0    MED-1221   \n",
       "\n",
       "                                                                                                                             top1_title  \n",
       "0                                            Statin use after diagnosis of breast cancer and survival: a population-based cohort study.  \n",
       "1  Licorice and licochalcone-A induce autophagy in LNCaP prostate cancer cells by suppression of Bcl-2 expression and the mTOR pathway.  \n",
       "2                                                  Clostridium difficile in foods and animals: history and measures to reduce exposure.  "
      ]
     },
     "metadata": {},
     "output_type": "display_data"
    },
    {
     "name": "stdout",
     "output_type": "stream",
     "text": [
      "\n",
      "== Resumo (médias por dataset) ==\n"
     ]
    },
    {
     "data": {
      "text/html": [
       "<div>\n",
       "<style scoped>\n",
       "    .dataframe tbody tr th:only-of-type {\n",
       "        vertical-align: middle;\n",
       "    }\n",
       "\n",
       "    .dataframe tbody tr th {\n",
       "        vertical-align: top;\n",
       "    }\n",
       "\n",
       "    .dataframe thead th {\n",
       "        text-align: right;\n",
       "    }\n",
       "</style>\n",
       "<table border=\"1\" class=\"dataframe\">\n",
       "  <thead>\n",
       "    <tr style=\"text-align: right;\">\n",
       "      <th></th>\n",
       "      <th>MRR@10</th>\n",
       "      <th>nDCG@10</th>\n",
       "      <th>MAP@10</th>\n",
       "      <th>Recall@10</th>\n",
       "    </tr>\n",
       "  </thead>\n",
       "  <tbody>\n",
       "    <tr>\n",
       "      <th>scifact</th>\n",
       "      <td>0.618365</td>\n",
       "      <td>0.652285</td>\n",
       "      <td>0.607113</td>\n",
       "      <td>0.775667</td>\n",
       "    </tr>\n",
       "    <tr>\n",
       "      <th>fiqa</th>\n",
       "      <td>0.270335</td>\n",
       "      <td>0.216704</td>\n",
       "      <td>0.159956</td>\n",
       "      <td>0.278013</td>\n",
       "    </tr>\n",
       "    <tr>\n",
       "      <th>nfcorpus</th>\n",
       "      <td>0.508455</td>\n",
       "      <td>0.307294</td>\n",
       "      <td>0.219082</td>\n",
       "      <td>0.152225</td>\n",
       "    </tr>\n",
       "  </tbody>\n",
       "</table>\n",
       "</div>"
      ],
      "text/plain": [
       "            MRR@10   nDCG@10    MAP@10  Recall@10\n",
       "scifact   0.618365  0.652285  0.607113   0.775667\n",
       "fiqa      0.270335  0.216704  0.159956   0.278013\n",
       "nfcorpus  0.508455  0.307294  0.219082   0.152225"
      ]
     },
     "metadata": {},
     "output_type": "display_data"
    }
   ],
   "source": [
    "all_results = {}\n",
    "for ds in DATASETS:\n",
    "    all_results[ds] = evaluate_dataset(ds, only_test=True)\n",
    "\n",
    "print(\"\\n== Resumo (médias por dataset) ==\")\n",
    "display(pd.DataFrame(all_results).T)"
   ]
  },
  {
   "cell_type": "code",
   "execution_count": 11,
   "id": "18afdf32",
   "metadata": {},
   "outputs": [
    {
     "name": "stdout",
     "output_type": "stream",
     "text": [
      "scifact   | corpus=  5183 | queries_total= 1109 | qrels_test_linhas=   339 | qrels_test_queries_unicas=  300\n",
      "fiqa      | corpus= 57638 | queries_total= 6648 | qrels_test_linhas=  1706 | qrels_test_queries_unicas=  648\n",
      "nfcorpus  | corpus=  3633 | queries_total= 3237 | qrels_test_linhas= 12334 | qrels_test_queries_unicas=  323\n"
     ]
    }
   ],
   "source": [
    "for name in DATASETS:\n",
    "    df_corpus, df_queries, df_qrels = load_beir_processed(name)\n",
    "    qrels_test = df_qrels[df_qrels[\"split\"] == \"test\"]\n",
    "    print(\n",
    "        f\"{name:9s} | corpus={len(df_corpus):6d} | queries_total={len(df_queries):5d} \"\n",
    "        f\"| qrels_test_linhas={len(qrels_test):6d} | qrels_test_queries_unicas={qrels_test['query_id'].nunique():5d}\"\n",
    "    )"
   ]
  }
 ],
 "metadata": {
  "kernelspec": {
   "display_name": ".venv",
   "language": "python",
   "name": "python3"
  },
  "language_info": {
   "codemirror_mode": {
    "name": "ipython",
    "version": 3
   },
   "file_extension": ".py",
   "mimetype": "text/x-python",
   "name": "python",
   "nbconvert_exporter": "python",
   "pygments_lexer": "ipython3",
   "version": "3.12.11"
  }
 },
 "nbformat": 4,
 "nbformat_minor": 5
}
